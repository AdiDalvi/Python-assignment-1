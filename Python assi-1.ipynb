{
 "cells": [
  {
   "cell_type": "code",
   "execution_count": 2,
   "id": "b1482041-83f9-4434-8e33-73881eccaee5",
   "metadata": {},
   "outputs": [
    {
     "ename": "SyntaxError",
     "evalue": "unmatched ']' (3459353461.py, line 1)",
     "output_type": "error",
     "traceback": [
      "\u001b[0;36m  Cell \u001b[0;32mIn[2], line 1\u001b[0;36m\u001b[0m\n\u001b[0;31m    1] Conventions to be followed while declaring a variable:\u001b[0m\n\u001b[0m     ^\u001b[0m\n\u001b[0;31mSyntaxError\u001b[0m\u001b[0;31m:\u001b[0m unmatched ']'\n"
     ]
    }
   ],
   "source": [
    "1] Conventions to be followed while declaring a variable:\n",
    "    (1)Variable cannot start with a number.\n",
    "    (2)Variable name must start with a letter.\n",
    "    (3)Variable name must not contain spaces within it.\n",
    "    \n",
    "2]  If we declare a restricted keyword as a variable then it will give a error and will not proceed ahead.\n"
   ]
  },
  {
   "cell_type": "code",
   "execution_count": null,
   "id": "a7142ade-69a4-4eea-beb2-ba9c3818570b",
   "metadata": {},
   "outputs": [],
   "source": []
  },
  {
   "cell_type": "code",
   "execution_count": 3,
   "id": "8dfade55-3b34-44a3-878d-86eeb796751e",
   "metadata": {},
   "outputs": [
    {
     "ename": "SyntaxError",
     "evalue": "unmatched ']' (650478266.py, line 1)",
     "output_type": "error",
     "traceback": [
      "\u001b[0;36m  Cell \u001b[0;32mIn[3], line 1\u001b[0;36m\u001b[0m\n\u001b[0;31m    3] Yes,we can declare a string as a variable name as it is not resticted.\u001b[0m\n\u001b[0m     ^\u001b[0m\n\u001b[0;31mSyntaxError\u001b[0m\u001b[0;31m:\u001b[0m unmatched ']'\n"
     ]
    }
   ],
   "source": [
    "3] Yes,we can declare a string as a variable name as it is not resticted.\n"
   ]
  },
  {
   "cell_type": "code",
   "execution_count": 4,
   "id": "08410edd-d6fb-4dab-8997-3dd2a5dd429a",
   "metadata": {},
   "outputs": [],
   "source": [
    "str = 'Aditya'"
   ]
  },
  {
   "cell_type": "code",
   "execution_count": 5,
   "id": "31d53724-28e9-47bd-a123-28705e96971e",
   "metadata": {},
   "outputs": [
    {
     "data": {
      "text/plain": [
       "'Aditya'"
      ]
     },
     "execution_count": 5,
     "metadata": {},
     "output_type": "execute_result"
    }
   ],
   "source": [
    "str"
   ]
  },
  {
   "cell_type": "code",
   "execution_count": 6,
   "id": "d8148bd3-f944-432f-a64f-5d80681b6a2f",
   "metadata": {},
   "outputs": [
    {
     "ename": "SyntaxError",
     "evalue": "unmatched ']' (3689061476.py, line 1)",
     "output_type": "error",
     "traceback": [
      "\u001b[0;36m  Cell \u001b[0;32mIn[6], line 1\u001b[0;36m\u001b[0m\n\u001b[0;31m    4] _ = 'Atharva'\u001b[0m\n\u001b[0m     ^\u001b[0m\n\u001b[0;31mSyntaxError\u001b[0m\u001b[0;31m:\u001b[0m unmatched ']'\n"
     ]
    }
   ],
   "source": [
    "4] It is not possible for us to declare \"_\" as a variable.  \n",
    "    _ = 'Atharva'"
   ]
  },
  {
   "cell_type": "code",
   "execution_count": null,
   "id": "e2296ec5-f70e-40da-8da7-ae276c9256da",
   "metadata": {},
   "outputs": [],
   "source": [
    "5] Python is dynamic in nature since it doesn't know about the type of the variable until the code is run."
   ]
  }
 ],
 "metadata": {
  "kernelspec": {
   "display_name": "Python 3 (ipykernel)",
   "language": "python",
   "name": "python3"
  },
  "language_info": {
   "codemirror_mode": {
    "name": "ipython",
    "version": 3
   },
   "file_extension": ".py",
   "mimetype": "text/x-python",
   "name": "python",
   "nbconvert_exporter": "python",
   "pygments_lexer": "ipython3",
   "version": "3.10.8"
  }
 },
 "nbformat": 4,
 "nbformat_minor": 5
}
